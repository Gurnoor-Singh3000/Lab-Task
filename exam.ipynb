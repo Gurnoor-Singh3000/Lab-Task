{
 "cells": [
  {
   "cell_type": "code",
   "execution_count": 11,
   "metadata": {},
   "outputs": [
    {
     "name": "stdout",
     "output_type": "stream",
     "text": [
      " e\n",
      " ea\n",
      "r ear\n"
     ]
    }
   ],
   "source": [
    "str1 =\"learn python\"\n",
    "str2 =\"\"\n",
    "str3 =\"\"\n",
    "for x in str1:\n",
    "    if(x==\"r\" or x==\"n\" or x==\"p\"):\n",
    "        str2+=x\n",
    "        pass\n",
    "    if(x==\"r\" or x==\"e\" or x==\"a\"):\n",
    "        str3+=x\n",
    "        print(str2,end=\" \")\n",
    "        print(str3)"
   ]
  },
  {
   "cell_type": "code",
   "execution_count": 13,
   "metadata": {},
   "outputs": [
    {
     "name": "stdout",
     "output_type": "stream",
     "text": [
      "rnpn ear\n"
     ]
    }
   ],
   "source": [
    "Q8\n",
    "str1 =\"learn python\"\n",
    "str2 =\"\"\n",
    "str3 =\"\"\n",
    "for x in str1:\n",
    "    if(x==\"r\" or x==\"n\" or x==\"p\"):\n",
    "        str2+=x\n",
    "        pass\n",
    "    if(x==\"r\" or x==\"e\" or x==\"a\"):\n",
    "        str3+=x\n",
    "\n",
    "print(str2,end=\" \")\n",
    "print(str3)"
   ]
  },
  {
   "cell_type": "code",
   "execution_count": 22,
   "metadata": {},
   "outputs": [
    {
     "name": "stdout",
     "output_type": "stream",
     "text": [
      "Or here?Or over here?\n"
     ]
    }
   ],
   "source": [
    "Q10 \n",
    "x = 3\n",
    "if x == 0:\n",
    "    print(\"Am I here?\", end = \"\") \n",
    "elif x ==3: \n",
    "    print(\"Or here?\", end = '') \n",
    "else: \n",
    "    pass \n",
    "print (\"Or over here?\") "
   ]
  },
  {
   "cell_type": "code",
   "execution_count": 23,
   "metadata": {},
   "outputs": [
    {
     "ename": "ValueError",
     "evalue": "too many values to unpack (expected 2)",
     "output_type": "error",
     "traceback": [
      "\u001b[1;31m---------------------------------------------------------------------------\u001b[0m",
      "\u001b[1;31mValueError\u001b[0m                                Traceback (most recent call last)",
      "Cell \u001b[1;32mIn [23], line 2\u001b[0m\n\u001b[0;32m      1\u001b[0m \u001b[39m#011. What type of error is generated for the following statement : \u001b[39;00m\n\u001b[1;32m----> 2\u001b[0m Ans1, Ans2 \u001b[39m=\u001b[39m \u001b[39m300\u001b[39m,\u001b[39m500\u001b[39m,\u001b[39m700\u001b[39m\n\u001b[0;32m      3\u001b[0m \u001b[39m'''a. Key Error \u001b[39;00m\n\u001b[0;32m      4\u001b[0m \u001b[39mb. Type Error \u001b[39;00m\n\u001b[0;32m      5\u001b[0m \u001b[39mc. Value Error \u001b[39;00m\n\u001b[0;32m      6\u001b[0m \u001b[39md. Name Error '''\u001b[39;00m\n\u001b[0;32m      7\u001b[0m \u001b[39m'''Q12. Sl='python' \u001b[39;00m\n\u001b[0;32m      8\u001b[0m \u001b[39mStatement l: Above code will generate error. \u001b[39;00m\n\u001b[0;32m      9\u001b[0m \u001b[39mStatement 2: String is mutable by nature. \u001b[39;00m\n\u001b[1;32m   (...)\u001b[0m\n\u001b[0;32m     36\u001b[0m \u001b[39m1 \u001b[39;00m\n\u001b[0;32m     37\u001b[0m \u001b[39m1 '''\u001b[39;00m\n",
      "\u001b[1;31mValueError\u001b[0m: too many values to unpack (expected 2)"
     ]
    }
   ],
   "source": [
    "#011. What type of error is generated for the following statement : \n",
    "Ans1, Ans2 = 300,500,700\n",
    "'''a. Key Error \n",
    "b. Type Error \n",
    "c. Value Error \n",
    "d. Name Error '''\n",
    "'''Q12. Sl='python' \n",
    "Statement l: Above code will generate error. \n",
    "Statement 2: String is mutable by nature. \n",
    "a. Only Statement I is true. \n",
    "b. Only Statement 2 is true. \n",
    "c. Both Statement 1 and 2 are true, but Statement 2 is not correct reasoning of \n",
    "Statement l. \n",
    "d. Both Statement I and 2 are true, but Statement 2 is correct reasoning of \n",
    "Statement 1. \n",
    "Q13. What possible output(s) are expected to be displayed on the screen at the time \n",
    "of execution of the following program code: \n",
    "'INDIGO', 'BLUE', 'GREEN', 'YELLOW', \n",
    "'ORANGE', 'RED'] \n",
    "end = random.randrange(2)+5 \n",
    "begin=random.randint( I ,end)+ I \n",
    "for i in range (begin, end): \n",
    "print (COLORS [i], \n",
    "a. BLUE # GREEN # \n",
    "b. GREEN # YELLOW # ORANGE # \n",
    "c. INDIGO # BLUE # GREEN # \n",
    "d. YELLOW # ORANGE # RED # \n",
    "QV Consider the list aList = [\"SIPO\", [l, 3, 5, 7] J. What would the following \n",
    "code print? \n",
    "Q15. What is the length of the tuple shown below? \n",
    "SECTION B \n",
    "Q] 6. Write the corresponding expression in python using the math module. \n",
    "result = 2- ye2y -F 42 \n",
    "3 \n",
    "1 \n",
    "1 \n",
    "1 '''"
   ]
  },
  {
   "cell_type": "code",
   "execution_count": 24,
   "metadata": {},
   "outputs": [
    {
     "ename": "TypeError",
     "evalue": "'str' object does not support item assignment",
     "output_type": "error",
     "traceback": [
      "\u001b[1;31m---------------------------------------------------------------------------\u001b[0m",
      "\u001b[1;31mTypeError\u001b[0m                                 Traceback (most recent call last)",
      "Cell \u001b[1;32mIn [24], line 2\u001b[0m\n\u001b[0;32m      1\u001b[0m S1\u001b[39m=\u001b[39m\u001b[39m'\u001b[39m\u001b[39mpython\u001b[39m\u001b[39m'\u001b[39m\n\u001b[1;32m----> 2\u001b[0m S1[\u001b[39m0\u001b[39;49m]\u001b[39m=\u001b[39mS1[\u001b[39m0\u001b[39m]\u001b[39m.\u001b[39mupper()\n",
      "\u001b[1;31mTypeError\u001b[0m: 'str' object does not support item assignment"
     ]
    }
   ],
   "source": [
    "Q12\n",
    "S1='python'\n",
    "S1[0]=S1[0].upper()\n",
    "#Statement 2 is true"
   ]
  },
  {
   "cell_type": "code",
   "execution_count": 51,
   "metadata": {},
   "outputs": [
    {
     "name": "stdout",
     "output_type": "stream",
     "text": [
      "BLUE#GREEN#YELLOW#ORANGE#"
     ]
    }
   ],
   "source": [
    "Q13\n",
    "import random\n",
    "COLORS = ['VIOLET', 'INDIGO', 'BLUE', 'GREEN', 'YELLOW', 'ORANGE', 'RED'] \n",
    "end = random.randrange(2)+5 \n",
    "begin=random.randint(1,end)+1 \n",
    "for i in range (begin, end): \n",
    "    print(COLORS[i],end='#') \n",
    "    #green yellow orange? mf this is such a fucking stupid question ITS FUCKING RANDOM FOR A REASON"
   ]
  },
  {
   "cell_type": "code",
   "execution_count": 53,
   "metadata": {},
   "outputs": [
    {
     "name": "stdout",
     "output_type": "stream",
     "text": [
      "I 3\n"
     ]
    }
   ],
   "source": [
    "#Q14\n",
    "aList = [\"SIPO\", [1, 3, 5, 7]]\n",
    "print(aList[0][1], aList[1][1])"
   ]
  },
  {
   "cell_type": "code",
   "execution_count": 56,
   "metadata": {},
   "outputs": [
    {
     "name": "stdout",
     "output_type": "stream",
     "text": [
      "3\n"
     ]
    }
   ],
   "source": [
    "#Q15\n",
    "T = (((('a',1),'b','c'),'d',2),'e',3)\n",
    "print(len(T))"
   ]
  },
  {
   "cell_type": "code",
   "execution_count": 58,
   "metadata": {},
   "outputs": [
    {
     "name": "stdout",
     "output_type": "stream",
     "text": [
      "o t\n",
      "n w\n",
      "e o\n"
     ]
    },
    {
     "data": {
      "text/plain": [
       "'How many times the following loop will execute? \\nX, Y, 100, 175, 500 \\nfor K in range(X, Y, 15) : \\nprint(\"Z = \", Z) \\nprint(\"Final Value of Z = Z) \"L 4 | 4, \\'i \\nDefine active and passive digital footprint with suitable examples \\nWrite all the outputs for the below code. \\nx=20 \\nx=x-10 \\n1 \\nprint(x,y) \\n,x-10 \\nprint(x,y) \\nSECTION C \\nQ21. Suggest suitable functions of string to perforn the following task and its \\noutput. Given the string \\nS = \"Zippzzapp 123\" \\ni. To check whether the string contains alphabets and digits \\nii. To remove from the beginning of the string all string combinations of the \\nfirst 3 letters. \\nQ22. Rewrite the code by changing the while loop to the corresponding for loop i 2 \\nN = int (input (\"Enter the number\")) \\nsum —0 \\nwhile i<N: \\nsum sum +i \\nQ23. What dolJ02u understand by Phishing? Write an example of Phishing. \\nExpand the terms: IPR, GPL, OSS, GNU '"
      ]
     },
     "execution_count": 58,
     "metadata": {},
     "output_type": "execute_result"
    }
   ],
   "source": [
    "#Q17\n",
    "#Write the output for the following code \n",
    "x ='one' \n",
    "y ='two' \n",
    "c=0 \n",
    "while c<len(x):\n",
    "    print(x[c],y[c])\n",
    "    c+=1 \n",
    "'''How many times the following loop will execute? \n",
    "X, Y, 100, 175, 500 \n",
    "for K in range(X, Y, 15) : \n",
    "print(\"Z = \", Z) \n",
    "print(\"Final Value of Z = Z) \"L 4 | 4, 'i \n",
    "Define active and passive digital footprint with suitable examples \n",
    "Write all the outputs for the below code. \n",
    "x=20 \n",
    "x=x-10 \n",
    "1 \n",
    "print(x,y) \n",
    ",x-10 \n",
    "print(x,y) \n",
    "SECTION C \n",
    "Q21. Suggest suitable functions of string to perforn the following task and its \n",
    "output. Given the string \n",
    "S = \"Zippzzapp 123\" \n",
    "i. To check whether the string contains alphabets and digits \n",
    "ii. To remove from the beginning of the string all string combinations of the \n",
    "first 3 letters. \n",
    "Q22. Rewrite the code by changing the while loop to the corresponding for loop i 2 \n",
    "N = int (input (\"Enter the number\")) \n",
    "sum —0 \n",
    "while i<N: \n",
    "sum sum +i \n",
    "Q23. What dolJ02u understand by Phishing? Write an example of Phishing. \n",
    "Expand the terms: IPR, GPL, OSS, GNU '''"
   ]
  },
  {
   "cell_type": "code",
   "execution_count": 60,
   "metadata": {},
   "outputs": [
    {
     "name": "stdout",
     "output_type": "stream",
     "text": [
      "Z =  600\n",
      "Z =  700\n",
      "Z =  800\n",
      "Z =  900\n",
      "Z =  1000\n",
      "Final Value of Z =  1000\n"
     ]
    }
   ],
   "source": [
    "#18\n",
    "X, Y, Z = 100, 175, 500 \n",
    "for K in range(X, Y, 15):\n",
    "    Z +=X \n",
    "    print(\"Z = \", Z) \n",
    "print(\"Final Value of Z = \",Z)"
   ]
  },
  {
   "cell_type": "code",
   "execution_count": 61,
   "metadata": {},
   "outputs": [
    {
     "name": "stdout",
     "output_type": "stream",
     "text": [
      "15 50\n",
      "14 5\n"
     ]
    }
   ],
   "source": [
    "#20\n",
    "x=20 \n",
    "x,y=x+5,50\n",
    "x=x-10 \n",
    "print(x,y) \n",
    "x,y=x-1,x-10 \n",
    "print(x,y) "
   ]
  },
  {
   "cell_type": "code",
   "execution_count": null,
   "metadata": {},
   "outputs": [],
   "source": [
    "Q24. I'lnd the error in the following code (if any) and correct the code by rewriting \n",
    "the code and underlining the correction; - \n",
    "30=T0 \n",
    "for k in \n",
    "print(K*) \n",
    "else k = = 0 \n",
    "print \n",
    "print(K+3) \n",
    "(225. The record of a student (Name, Roll No., Marks in five subjects and \n",
    "percentage of marks) is stored in the following list: \n",
    "stRecord 78.8] \n",
    "Write Python statements to retrieve the following information from the list \n",
    "Q26 \n",
    "stRecord. \n",
    "(a) Maximum marks of the students \n",
    "(b) Change the name of the student from 'Raman' to 'Raghav' \n",
    "Write the outputs for the following questions: \n",
    "i. s='mahender Singh dhoni' \n",
    "for i in sl: \n",
    "if(i>'n'): \n",
    "print(i.upper()) \n",
    "else: \n",
    "print(i) \n",
    "ii. S = \"Welédmq \n",
    "print(S[-2:]) \n",
    "10:3] \n",
    "print(S[-10:-2:2) \n",
    "Q27. fourseasons=['Spring','Summer','Fall','Winter'] is a list. \n",
    "i) Give the command to sort the list in reverse order. Write the output. \n",
    "ii) After the command fourseasons.extend(fourseasons[l :31) is executed \n",
    "what is the length of the list? \n",
    "Write the changed list in correct order of the elements \n",
    "Q28. Write a program to calculate the sum of the following series: \n",
    "(1+2+3+.....n) \n",
    "2 \n",
    "2 \n",
    "2 "
   ]
  },
  {
   "cell_type": "code",
   "execution_count": 67,
   "metadata": {},
   "outputs": [
    {
     "ename": "TypeError",
     "evalue": "'type' object is not subscriptable",
     "output_type": "error",
     "traceback": [
      "\u001b[1;31m---------------------------------------------------------------------------\u001b[0m",
      "\u001b[1;31mTypeError\u001b[0m                                 Traceback (most recent call last)",
      "Cell \u001b[1;32mIn [67], line 3\u001b[0m\n\u001b[0;32m      1\u001b[0m \u001b[39m#Q24\u001b[39;00m\n\u001b[0;32m      2\u001b[0m TO\u001b[39m=\u001b[39m\u001b[39m30\u001b[39m\n\u001b[1;32m----> 3\u001b[0m \u001b[39mfor\u001b[39;00m k \u001b[39min\u001b[39;00m \u001b[39mrange\u001b[39;49m[\u001b[39m0\u001b[39;49m,TO]:\n\u001b[0;32m      4\u001b[0m     \u001b[39mif\u001b[39;00m k\u001b[39m%\u001b[39m\u001b[39m4\u001b[39m \u001b[39m>\u001b[39m\u001b[39m=\u001b[39m \u001b[39m0\u001b[39m:\n\u001b[0;32m      5\u001b[0m         \u001b[39mprint\u001b[39m(\u001b[39m*\u001b[39mK) \n",
      "\u001b[1;31mTypeError\u001b[0m: 'type' object is not subscriptable"
     ]
    }
   ],
   "source": [
    "#Q24\n",
    "TO=30\n",
    "for k in range[0,TO]:\n",
    "    if k%4 >= 0:\n",
    "        print(*K) \n",
    "    elif k==0: \n",
    "#print ???? WHY THE FUCK IS IT HERE\n",
    "        print(K+3)\n",
    "#I tried Tesa this shit is too fucking stupid, you're not taking CS in 12th, your fucking school doesnt even know what questions to ask AND \n",
    "#WHAT PROGRAMMING QUESTIONS LOOK LIKE\n",
    "\n",
    "#kill me and save you from this hell"
   ]
  },
  {
   "cell_type": "code",
   "execution_count": 69,
   "metadata": {},
   "outputs": [
    {
     "name": "stdout",
     "output_type": "stream",
     "text": [
      "mahender\n",
      "SINGH\n",
      "dhoni\n"
     ]
    }
   ],
   "source": [
    "s='mahender singh dhoni'\n",
    "s1=s.split() \n",
    "for i in s1: \n",
    "    if(i>'n'): \n",
    "        print(i.upper()) \n",
    "    else: \n",
    "        print(i) \n"
   ]
  },
  {
   "cell_type": "code",
   "execution_count": 71,
   "metadata": {},
   "outputs": [
    {
     "name": "stdout",
     "output_type": "stream",
     "text": [
      "l\n",
      "am\n",
      "lmt\n",
      "c rg\n"
     ]
    }
   ],
   "source": [
    "#Q26\n",
    "S = \"Welcome to Space Program\"\n",
    "print(S[2:3])\n",
    "print(S[-2:]) \n",
    "#print(S[2:10:3] these\n",
    "#print(S[-10:-2:2) are wrong syntax so the output is error\n",
    "print(S[2:10:3])\n",
    "print(S[-10:-2:2])\n"
   ]
  },
  {
   "cell_type": "code",
   "execution_count": 72,
   "metadata": {},
   "outputs": [
    {
     "name": "stdout",
     "output_type": "stream",
     "text": [
      "o + o o + \n",
      "o o + + o \n",
      "o o + + o \n",
      "o + o o + \n"
     ]
    }
   ],
   "source": [
    "#30\n",
    "for i in range(4):\n",
    "    for j in range(5):\n",
    "        if i+1 == j or  j+i == 4:\n",
    "            print('+', end=' ')\n",
    "        else:\n",
    "            print('o', end=' ')\n",
    "    print()"
   ]
  },
  {
   "cell_type": "code",
   "execution_count": null,
   "metadata": {},
   "outputs": [],
   "source": []
  }
 ],
 "metadata": {
  "kernelspec": {
   "display_name": "Python 3",
   "language": "python",
   "name": "python3"
  },
  "language_info": {
   "codemirror_mode": {
    "name": "ipython",
    "version": 3
   },
   "file_extension": ".py",
   "mimetype": "text/x-python",
   "name": "python",
   "nbconvert_exporter": "python",
   "pygments_lexer": "ipython3",
   "version": "3.10.7"
  },
  "orig_nbformat": 4,
  "vscode": {
   "interpreter": {
    "hash": "e450050b432e843bda3c41bf3272c133bfc370a7003f3e377e27f87a49ce1127"
   }
  }
 },
 "nbformat": 4,
 "nbformat_minor": 2
}
